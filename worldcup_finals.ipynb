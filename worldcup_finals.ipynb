{
 "cells": [
  {
   "cell_type": "markdown",
   "metadata": {},
   "source": [
    "After a month of intense and suspenseful matches the finals are here. And it's the teams that most of the predictions missed: France vs Croatia. (Well I got one :) )"
   ]
  },
  {
   "cell_type": "markdown",
   "metadata": {},
   "source": [
    "## Probable Starting Lineups"
   ]
  },
  {
   "cell_type": "markdown",
   "metadata": {},
   "source": [
    "### France\n",
    "<img src=\"images/france_lineup.png\" height=500 width=500>"
   ]
  },
  {
   "cell_type": "markdown",
   "metadata": {},
   "source": [
    "### Croatia\n",
    "<img src=\"images/croatia_lineup.png\" height=500 width=500>"
   ]
  },
  {
   "cell_type": "markdown",
   "metadata": {},
   "source": [
    "The above lineups are from semifinals. France hasn't changed their lineup in the knockout stage so most probably they will stick to the same starting lineup. Croatia, on the other hand, has had few changes in lineup but for prediction purposes I chose to go with their semifinal lineup as well."
   ]
  },
  {
   "cell_type": "code",
   "execution_count": 28,
   "metadata": {
    "collapsed": true
   },
   "outputs": [],
   "source": [
    "from sklearn.naive_bayes import GaussianNB\n",
    "from sklearn.externals import joblib\n",
    "import pandas as pd\n",
    "import numpy as np\n",
    "import csv\n",
    "import json\n",
    "import datetime\n",
    "import math"
   ]
  },
  {
   "cell_type": "code",
   "execution_count": 41,
   "metadata": {
    "collapsed": true
   },
   "outputs": [],
   "source": [
    "trained_model = joblib.load('data/gaussian.pkl')"
   ]
  },
  {
   "cell_type": "code",
   "execution_count": 30,
   "metadata": {
    "collapsed": true
   },
   "outputs": [],
   "source": [
    "starting_xi = {}\n",
    "        \n",
    "starting_xi['France'] = ['Hugo Lloris',\n",
    "                         'Benjamin Pavard',\n",
    "                         'Raphael Varane',\n",
    "                         'Samuel Umtiti',\n",
    "                         'Lucas Hernandez',\n",
    "                         \"N'Golo Kante\",\n",
    "                         'Paul Pogba',\n",
    "                         'Kylian Mbappe',\n",
    "                         'Antoine Griezmann',\n",
    "                         'Blaise Matuidi',\n",
    "                         'Olivier Giroud',\n",
    "                         ]\n",
    "starting_xi['Croatia'] = ['Danijel Subasic',\n",
    "                          'Sime Vrsaljko',\n",
    "                          'Dejan Lovren',\n",
    "                          'Domagoj Vida',\n",
    "                          'Ivan Strinic',\n",
    "                          'Marcelo Brozovic',\n",
    "                          'Ante Rebic',\n",
    "                          'Luka Modric',\n",
    "                          'Ivan Rakitic',\n",
    "                          'Ivan Perisic',\n",
    "                          'Mario Mandzukic'\n",
    "                         ]"
   ]
  },
  {
   "cell_type": "code",
   "execution_count": 60,
   "metadata": {
    "collapsed": true
   },
   "outputs": [],
   "source": [
    "def get_age_before_match(d1,d2):\n",
    "    t1 = datetime.datetime.strptime(d1,'%b %d, %Y')\n",
    "    t2 = datetime.datetime.strptime(d2,'%Y-%m-%d')\n",
    "    return (t2-t1).days\n",
    "\n",
    "def read_sofifa_data(country):\n",
    "    player_info = {}\n",
    "    file_name = '_'.join(country.lower().split())+'.json'\n",
    "    with open('data/sofifa_data/'+file_name) as f:\n",
    "        for line in f:\n",
    "            obj = json.loads(line.strip())\n",
    "            player_info[obj['name']] = [float(obj['overall_rating']),\n",
    "                                        float(obj['potential']),\n",
    "                                        obj['bday'].replace('(','').replace(')','')]\n",
    "    return player_info\n",
    "\n",
    "\n",
    "def get_features(country1, country2, match_date):\n",
    "    team1 = read_sofifa_data(country1)\n",
    "    team2 = read_sofifa_data(country2)\n",
    "    \n",
    "    feat = [f for pl in starting_xi[country1] for f in team1[pl][:2]+[get_age_before_match(team1[pl][2], match_date)]]\n",
    "    feat += [f for pl in starting_xi[country2] for f in team2[pl][:2]+[get_age_before_match(team2[pl][2], match_date)]]\n",
    "    return feat\n",
    "\n",
    "def predict_result(trained_model, country1, country2, match_date):\n",
    "    f = get_features(country1,country2,match_date)\n",
    "    result = trained_model.predict(np.array(f).reshape(1,-1))\n",
    "    pre_string = '{country1} vs {country2} result: '.format(country1=country1, country2=country2)\n",
    "    if result[0]==0:\n",
    "        print pre_string+'{winner} wins'.format(winner=country1)\n",
    "    elif result[0]==2:\n",
    "        print pre_string+'{winner} wins'.format(winner=country2)\n",
    "    else:\n",
    "        print pre_string+'Draw'\n",
    "        \n",
    "def get_prob_value(feat, sigma, theta):\n",
    "    return np.exp(-math.pow(feat-theta, 2)/(2*math.pow(sigma,2)))/(sigma*math.sqrt(2*math.pi))\n",
    "\n",
    "def get_feature_prob(trained_model, feat, label, n=5):\n",
    "    theta = trained_model.theta_[label]\n",
    "    sigma = trained_model.sigma_[label]\n",
    "\n",
    "    div_ind = len(feat)/2\n",
    "    # Team 1\n",
    "    team1_prob = [get_prob_value(feat[i], sigma[i], theta[i]) for i in range(div_ind)]\n",
    "    \n",
    "    # Team 2\n",
    "    team2_prob = [get_prob_value(feat[i], sigma[i], theta[i]) for i in range(div_ind,len(feat))]\n",
    "    return team1_prob, team2_prob\n"
   ]
  },
  {
   "cell_type": "code",
   "execution_count": 61,
   "metadata": {
    "collapsed": false
   },
   "outputs": [
    {
     "name": "stdout",
     "output_type": "stream",
     "text": [
      "Croatia vs France result: France wins\n"
     ]
    }
   ],
   "source": [
    "predict_result(trained_model, 'Croatia','France','2018-07-15')"
   ]
  },
  {
   "cell_type": "code",
   "execution_count": 71,
   "metadata": {
    "collapsed": false
   },
   "outputs": [
    {
     "name": "stdout",
     "output_type": "stream",
     "text": [
      "Team 1 best players:  ['Luka Modric', 'Ivan Rakitic', 'Ivan Perisic', 'Danijel Subasic', 'Sime Vrsaljko']\n",
      "Team 2 best players:  ['Kylian Mbappe', 'Raphael Varane', 'Paul Pogba', 'Samuel Umtiti', \"N'Golo Kante\"]\n",
      "Team 1 top features:  [13  4 12 19  7 10 16  6  3 18]\n",
      "Team 2 top features:  [13  4 12  3 19 16  7 10  6 31]\n"
     ]
    }
   ],
   "source": [
    "f = get_features('Croatia','France','2018-07-15')\n",
    "_,t2 = get_feature_prob(trained_model, f, 2)\n",
    "t1,_ = get_feature_prob(trained_model, f, 0)\n",
    "\n",
    "print \"Team 1 best players: \",[starting_xi['Croatia'][ind] for ind in np.argsort([-t for t in f[1:33:3]])[:5]]\n",
    "print \"Team 2 best players: \",[starting_xi['France'][ind] for ind in np.argsort([-t for t in f[34::3]])[:5]]\n",
    "print \"Team 1 top features: \",np.argsort([-t for t in t1])[:10]\n",
    "print \"Team 2 top features: \",np.argsort([-t for t in t2])[:10]"
   ]
  },
  {
   "cell_type": "markdown",
   "metadata": {},
   "source": [
    "### Important Features/Players"
   ]
  },
  {
   "cell_type": "markdown",
   "metadata": {},
   "source": [
    "#### Croatia (Top 5 players according to EA sports data)\n",
    "* Luka Modric\n",
    "* Ivan Rakitic\n",
    "* Ivan Perisic\n",
    "* Danijel Subasic\n",
    "* Sime Vrsaljko\n",
    "#### France (Top 5 players according to EA sports data)\n",
    "* Kylian Mbappe\n",
    "* Raphael Varane\n",
    "* Paul Pogba\n",
    "* Samuel Umtiti\n",
    "* N'Golo Kante\n",
    "\n",
    "Since Naive Bayes Classifier assumes independence condition for individual features, using that property we can sort the features according to desired label. According to the trained model, following are the key players that will contribute towards their respective teams. Note these set of players can be different from the best players in the team.\n",
    "#### Croatia (Key players)\n",
    "* Ivan Strinic\n",
    "* Sime Vrsaljko\n",
    "* Ante Rebic\n",
    "* Dejan Lovren\n",
    "* Domagoj Vida\n",
    "\n",
    "#### France (Key players)\n",
    "* Lucas Hernandez\n",
    "* Benjamin Pavard\n",
    "* Paul Pogba\n",
    "* N'Golo Kante\n",
    "* Raphael Varane"
   ]
  },
  {
   "cell_type": "markdown",
   "metadata": {},
   "source": []
  },
  {
   "cell_type": "markdown",
   "metadata": {},
   "source": []
  },
  {
   "cell_type": "code",
   "execution_count": null,
   "metadata": {
    "collapsed": true
   },
   "outputs": [],
   "source": []
  }
 ],
 "metadata": {
  "kernelspec": {
   "display_name": "Python [Root]",
   "language": "python",
   "name": "Python [Root]"
  },
  "language_info": {
   "codemirror_mode": {
    "name": "ipython",
    "version": 2
   },
   "file_extension": ".py",
   "mimetype": "text/x-python",
   "name": "python",
   "nbconvert_exporter": "python",
   "pygments_lexer": "ipython2",
   "version": "2.7.11"
  }
 },
 "nbformat": 4,
 "nbformat_minor": 0
}
