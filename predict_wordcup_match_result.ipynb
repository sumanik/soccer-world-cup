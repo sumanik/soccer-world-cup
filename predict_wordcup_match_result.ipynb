{
 "cells": [
  {
   "cell_type": "markdown",
   "metadata": {},
   "source": [
    "# Introduction"
   ]
  },
  {
   "cell_type": "markdown",
   "metadata": {},
   "source": [
    "This project aims at predicting the results of group stage matches at the 2018 football world cup, the brackets of knockout stage and the eventual world cup winner."
   ]
  },
  {
   "cell_type": "markdown",
   "metadata": {},
   "source": [
    "## Data"
   ]
  },
  {
   "cell_type": "markdown",
   "metadata": {},
   "source": [
    "The main data source for this project is the [European Soccer Database](https://www.kaggle.com/hugomathien/soccer) from [Kaggle](https://www.kaggle.com/). The dataset consists of following information:  \n",
    "* +25,000 matches\n",
    "* +10,000 players\n",
    "* 11 European Countries with their lead championship\n",
    "* Seasons 2008 to 2016\n",
    "* Players and Teams' attributes* sourced from EA Sports' FIFA video game series, including the weekly updates\n",
    "* Team line up with squad formation (X, Y coordinates)\n",
    "* Betting odds from up to 10 providers\n",
    "* Detailed match events (goal types, possession, corner, cross, fouls, cards etc...) for +10,000 matches  \n",
    "\n",
    "Particular data attributes used for this project are as follows:\n",
    "* European League Matches attributes from 2008 to 2016\n",
    "* Starting lineup of the teams for all matches\n",
    "* Player attributes sourced from EA Sports' FIFA game ([sofifa.com](https://sofifa.com/))"
   ]
  },
  {
   "cell_type": "markdown",
   "metadata": {},
   "source": [
    "## Features"
   ]
  },
  {
   "cell_type": "markdown",
   "metadata": {},
   "source": [
    "Each data sample is a match with label as Win, Defeat or Draw. I used the starting XI players from both teams as features. For each player, I used these 3 attributes: overall rating (FIFA game), potential (FIFA game) and age before the match. With a total of 22 starting XI players for each match and 3 attributes per player, the total number of features for a data sample is 66.  \n",
    "Here's the format of a data sample:  \n",
    "* Player Features: Overall Rating, Potential, Age\n",
    "* Team Features: Player1 Features, Player2 Features,.......,Player11 Features\n",
    "* Match Features: Team1 Features,Team2 Features\n",
    "* Match Label: Match result wrt to Team1. For example, if match feature is [Team1, Team2] then match label is Win if Team1 wins, Defeat if Team1 loses or Draw in case of a draw.  \n",
    "\n",
    "Sofifa has a lot more attributes for each player but I ended up using only overall rating and potential."
   ]
  },
  {
   "cell_type": "markdown",
   "metadata": {},
   "source": [
    "## Classifier"
   ]
  },
  {
   "cell_type": "markdown",
   "metadata": {},
   "source": [
    "**Naive Bayes Classifier** was used to train the classifier on the aforementioned dataset. Since the attributes of each player can safely be assumed to be independent of his teammates. Although potential and overall rating of a player are related to each other but for some players the overall rating tends to be lower than potential. And even if the individual features are not independent, the Bayes classifier can still give really good results.  "
   ]
  },
  {
   "cell_type": "code",
   "execution_count": 110,
   "metadata": {
    "collapsed": true
   },
   "outputs": [],
   "source": [
    "from sklearn.model_selection import train_test_split\n",
    "from sklearn.model_selection import cross_val_score\n",
    "from sklearn.naive_bayes import GaussianNB\n",
    "from sklearn import svm\n",
    "from sklearn.externals import joblib\n",
    "import pandas as pd\n",
    "import numpy as np\n",
    "import csv\n",
    "import json\n",
    "import datetime"
   ]
  },
  {
   "cell_type": "code",
   "execution_count": 111,
   "metadata": {
    "collapsed": false
   },
   "outputs": [],
   "source": [
    "# load data\n",
    "data = pd.read_csv('data/training_data.csv')\n",
    "X = data.values[:,:-1]\n",
    "Y = data.values[:,-1]"
   ]
  },
  {
   "cell_type": "code",
   "execution_count": 112,
   "metadata": {
    "collapsed": true
   },
   "outputs": [],
   "source": [
    "def filter_features(feat, overall_rating=True, potential=True, age=True):\n",
    "    ''' Filters out specific attributes of the players '''\n",
    "    keep_col_nums = [i for i in range(feat.shape[1]) if (i%3==0 and overall_rating) or (i%3==1 and potential) or (i%3==2 and age)]\n",
    "    return feat[:,keep_col_nums]\n",
    "\n",
    "def mirror_teams(X,Y):\n",
    "    ''' Data -> [Team1,Team2], [Team2,Team1] '''\n",
    "    num_cols = X.shape[1]\n",
    "    team1_ind = num_cols/2\n",
    "    mirror_X = np.concatenate((X[:,team1_ind:], X[:,:team1_ind]), axis=1)\n",
    "    feat = np.concatenate((X, mirror_X), axis=0)\n",
    "    mirror_Y = Y\n",
    "    for i in range(Y.shape[0]):\n",
    "        if Y[i][0]=='Win':\n",
    "            mirror_Y[i][0] = 'Defeat'\n",
    "        elif Y[i][0]=='Defeat':\n",
    "            mirror_Y[i][0] = 'Win'\n",
    "    labels = np.concatenate((Y,mirror_Y), axis=0)\n",
    "    return feat, labels"
   ]
  },
  {
   "cell_type": "code",
   "execution_count": 113,
   "metadata": {
    "collapsed": false
   },
   "outputs": [
    {
     "name": "stdout",
     "output_type": "stream",
     "text": [
      "0.4757733204091652\n",
      "0.48602615173636804\n",
      "0.4878049259472824\n",
      "0.45437940423145956\n",
      "0.4744156752678772\n",
      "0.48630691910579343\n",
      "0.4879448276038788\n"
     ]
    }
   ],
   "source": [
    "# Cross Validation accuracy\n",
    "clf = GaussianNB()\n",
    "\n",
    "# all features\n",
    "print sum(cross_val_score(clf, X, Y, cv=5, n_jobs=-1))/5\n",
    "\n",
    "# overall rating\n",
    "feat = filter_features(X, True, False, False)\n",
    "print sum(cross_val_score(clf, feat, Y, cv=5, n_jobs=-1))/5\n",
    "\n",
    "# potential\n",
    "feat = filter_features(X, False, True, False)\n",
    "print sum(cross_val_score(clf, feat, Y, cv=5, n_jobs=-1))/5\n",
    "\n",
    "# age\n",
    "\n",
    "feat = filter_features(X, False, False, True)\n",
    "print sum(cross_val_score(clf, feat, Y, cv=5, n_jobs=-1))/5\n",
    "\n",
    "# overall rating and potential\n",
    "feat = filter_features(X, True, True, False)\n",
    "print sum(cross_val_score(clf, feat, Y, cv=5, n_jobs=-1))/5\n",
    "\n",
    "# overall rating and age\n",
    "feat = filter_features(X, True, False, True)\n",
    "print sum(cross_val_score(clf, feat, Y, cv=5, n_jobs=-1))/5\n",
    "\n",
    "# potential and age\n",
    "feat = filter_features(X, False, True, True)\n",
    "print sum(cross_val_score(clf, feat, Y, cv=5, n_jobs=-1))/5\n"
   ]
  },
  {
   "cell_type": "markdown",
   "metadata": {},
   "source": [
    "From above results it looks like, potential and age of the players gives us the best results. But in the end, I ended up using all the features anyways to get my final classifier model which is present in the data folder in the pickle file labeled as 'gaussian.pkl'."
   ]
  },
  {
   "cell_type": "code",
   "execution_count": 121,
   "metadata": {
    "collapsed": false
   },
   "outputs": [],
   "source": [
    "all_feat_trained_model = joblib.load('data/gaussian.pkl')"
   ]
  },
  {
   "cell_type": "markdown",
   "metadata": {},
   "source": [
    "## Predicting 2018 World Cup Matches Results"
   ]
  },
  {
   "cell_type": "markdown",
   "metadata": {},
   "source": [
    "Since the data that I trained my model was from sofifa.com, I used the same data source to predict the world cup matches as well. I started with preparing a list of probable starting XI players. For this purpose i used foxsports.com probable list of starting XI players and then scraped current stats for those players from sofifa.com. the list of starting XI players for each team is in starting_xi.csv file in the data folder and the scraped player attributes are in a folder sofifa_data inside data directory. There's a json file for each of the 32 participating countries. Besides scraping starting XI players, I also scraped other good players from each of those countries so as to update the results of the matches when the official starting XI players list is announced before the matches."
   ]
  },
  {
   "cell_type": "code",
   "execution_count": 122,
   "metadata": {
    "collapsed": true
   },
   "outputs": [],
   "source": [
    "# Starting XI \n",
    "starting_xi = {}\n",
    "with open('data/starting_xi.csv','rU') as f:\n",
    "    reader = csv.reader(f)\n",
    "    for row in reader:\n",
    "        starting_xi[row[0]] = row[1:]"
   ]
  },
  {
   "cell_type": "code",
   "execution_count": 123,
   "metadata": {
    "collapsed": true
   },
   "outputs": [],
   "source": [
    "def get_age_before_match(d1,d2):\n",
    "    t1 = datetime.datetime.strptime(d1,'%b %d, %Y')\n",
    "    t2 = datetime.datetime.strptime(d2,'%Y-%m-%d')\n",
    "    return (t2-t1).days\n",
    "\n",
    "def read_sofifa_data(country):\n",
    "    player_info = {}\n",
    "    file_name = '_'.join(country.lower().split())+'.json'\n",
    "    with open('data/sofifa_data/'+file_name) as f:\n",
    "        for line in f:\n",
    "            obj = json.loads(line.strip())\n",
    "            player_info[obj['name']] = [float(obj['overall_rating']),\n",
    "                                        float(obj['potential']),\n",
    "                                        obj['bday'].replace('(','').replace(')','')]\n",
    "    return player_info\n",
    "\n",
    "\n",
    "def get_features(country1, country2, match_date):\n",
    "    team1 = read_sofifa_data(country1)\n",
    "    team2 = read_sofifa_data(country2)\n",
    "    \n",
    "    feat = [f for pl in starting_xi[country1] for f in team1[pl][:2]+[get_age_before_match(team1[pl][2], match_date)]]\n",
    "    feat += [f for pl in starting_xi[country2] for f in team2[pl][:2]+[get_age_before_match(team2[pl][2], match_date)]]\n",
    "    return feat"
   ]
  },
  {
   "cell_type": "code",
   "execution_count": 126,
   "metadata": {
    "collapsed": false
   },
   "outputs": [],
   "source": [
    "def predict_result(trained_model, country1, country2, match_date):\n",
    "    f = get_features(country1,country2,match_date)\n",
    "    result = trained_model.predict(np.array(f).reshape(1,-1))\n",
    "    pre_string = '{country1} vs {country2} result: '.format(country1=country1, country2=country2)\n",
    "    if result[0]==0:\n",
    "        print pre_string+'{winner} wins'.format(winner=country1)\n",
    "    elif result[0]==2:\n",
    "        print pre_string+'{winner} wins'.format(winner=country2)\n",
    "    else:\n",
    "        print pre_string+'Draw'"
   ]
  },
  {
   "cell_type": "markdown",
   "metadata": {},
   "source": [
    "## Matches"
   ]
  },
  {
   "cell_type": "code",
   "execution_count": 127,
   "metadata": {
    "collapsed": false
   },
   "outputs": [
    {
     "name": "stdout",
     "output_type": "stream",
     "text": [
      "############# DAY 1 Results ###########\n",
      "Russia vs Saudi Arabia result: Russia wins\n",
      "\n",
      "############# DAY 2 Results ###########\n",
      "Egypt vs Uruguay result: Uruguay wins\n",
      "Morocco vs Iran result: Morocco wins\n",
      "Portugal vs Spain result: Spain wins\n",
      "\n",
      "############# DAY 3 Results ###########\n",
      "France vs Australia result: France wins\n",
      "Argentina vs Iceland result: Argentina wins\n",
      "Peru vs Denmark result: Denmark wins\n",
      "Croatia vs Nigeria result: Croatia wins\n",
      "\n",
      "############# DAY 4 Results ###########\n",
      "Costa Rica vs Serbia result: Serbia wins\n",
      "Germany vs Mexico result: Germany wins\n",
      "Brazil vs Switzerland result: Brazil wins\n",
      "\n",
      "############# DAY 5 Results ###########\n",
      "Sweden vs South Korea result: Sweden wins\n",
      "Belgium vs Panama result: Belgium wins\n",
      "Tunisia vs England result: England wins\n",
      "\n",
      "############# DAY 6 Results ###########\n",
      "Colombia vs Japan result: Colombia wins\n",
      "Poland vs Senegal result: Poland wins\n",
      "Russia vs Egypt result: Russia wins\n",
      "\n",
      "############# DAY 7 Results ###########\n",
      "Portugal vs Morocco result: Portugal wins\n",
      "Uruguay vs Saudi Arabia result: Uruguay wins\n",
      "Iran vs Spain result: Spain wins\n",
      "\n",
      "############# DAY 8 Results ###########\n",
      "Denmark vs Australia result: Denmark wins\n",
      "France vs Peru result: France wins\n",
      "Argentina vs Croatia result: Argentina wins\n",
      "\n",
      "############# DAY 9 Results ###########\n",
      "Brazil vs Costa Rica result: Brazil wins\n",
      "Nigeria vs Iceland result: Nigeria wins\n",
      "Serbia vs Switzerland result: Switzerland wins\n",
      "\n",
      "############# DAY 10 Results ###########\n",
      "Belgium vs Tunisia result: Belgium wins\n",
      "South Korea vs Mexico result: Mexico wins\n",
      "Germany vs Sweden result: Germany wins\n",
      "\n",
      "############# DAY 11 Results ###########\n",
      "England vs Panama result: England wins\n",
      "Japan vs Senegal result: Senegal wins\n",
      "Poland vs Colombia result: Colombia wins\n",
      "\n",
      "############# DAY 12 Results ###########\n",
      "Saudi Arabia vs Egypt result: Draw\n",
      "Uruguay vs Russia result: Uruguay wins\n",
      "Iran vs Portugal result: Portugal wins\n",
      "Spain vs Morocco result: Spain wins\n",
      "\n",
      "############# DAY 13 Results ###########\n",
      "Australia vs Peru result: Draw\n",
      "Denmark vs France result: France wins\n",
      "Nigeria vs Argentina result: Argentina wins\n",
      "Iceland vs Croatia result: Croatia wins\n",
      "\n",
      "############# DAY 14 Results ###########\n",
      "Mexico vs Sweden result: Mexico wins\n",
      "South Korea vs Germany result: Germany wins\n",
      "Switzerland vs Costa Rica result: Switzerland wins\n",
      "Serbia vs Brazil result: Brazil wins\n",
      "\n",
      "############# DAY 15 Results ###########\n",
      "Senegal vs Colombia result: Colombia wins\n",
      "Japan vs Poland result: Poland wins\n",
      "England vs Belgium result: Belgium wins\n",
      "Panama vs Tunisia result: Tunisia wins\n",
      "\n"
     ]
    }
   ],
   "source": [
    "pred_model = all_feat_trained_model\n",
    "\n",
    "# Day 1\n",
    "print \"############# DAY 1 Results ###########\"\n",
    "predict_result(pred_model, 'Russia','Saudi Arabia','2018-06-14')\n",
    "print\n",
    "# Day 2\n",
    "print \"############# DAY 2 Results ###########\"\n",
    "predict_result(pred_model, 'Egypt','Uruguay','2018-06-15')\n",
    "predict_result(pred_model, 'Morocco','Iran','2018-06-15')\n",
    "predict_result(pred_model, 'Portugal','Spain','2018-06-15')\n",
    "print\n",
    "# Day 3\n",
    "print \"############# DAY 3 Results ###########\"\n",
    "predict_result(pred_model, 'France','Australia','2018-06-16')\n",
    "predict_result(pred_model, 'Argentina','Iceland','2018-06-16')\n",
    "predict_result(pred_model, 'Peru','Denmark','2018-06-16')\n",
    "predict_result(pred_model, 'Croatia','Nigeria','2018-06-16')\n",
    "print\n",
    "# Day 4\n",
    "print \"############# DAY 4 Results ###########\"\n",
    "predict_result(pred_model, 'Costa Rica','Serbia','2018-06-17')\n",
    "predict_result(pred_model, 'Germany','Mexico','2018-06-17')\n",
    "predict_result(pred_model, 'Brazil','Switzerland','2018-06-17')\n",
    "print\n",
    "# Day 5\n",
    "print \"############# DAY 5 Results ###########\"\n",
    "predict_result(pred_model, 'Sweden','South Korea','2018-06-18')\n",
    "predict_result(pred_model, 'Belgium','Panama','2018-06-18')\n",
    "predict_result(pred_model, 'Tunisia','England','2018-06-18')\n",
    "print\n",
    "# Day 6\n",
    "print \"############# DAY 6 Results ###########\"\n",
    "predict_result(pred_model, 'Colombia','Japan','2018-06-19')\n",
    "predict_result(pred_model, 'Poland','Senegal','2018-06-19')\n",
    "predict_result(pred_model, 'Russia','Egypt','2018-06-19')\n",
    "print\n",
    "# Day 7\n",
    "print \"############# DAY 7 Results ###########\"\n",
    "predict_result(pred_model, 'Portugal','Morocco','2018-06-20')\n",
    "predict_result(pred_model, 'Uruguay','Saudi Arabia','2018-06-20')\n",
    "predict_result(pred_model, 'Iran','Spain','2018-06-20')\n",
    "print\n",
    "# Day 8\n",
    "print \"############# DAY 8 Results ###########\"\n",
    "predict_result(pred_model, 'Denmark','Australia','2018-06-21')\n",
    "predict_result(pred_model, 'France','Peru','2018-06-21')\n",
    "predict_result(pred_model, 'Argentina','Croatia','2018-06-21')\n",
    "print\n",
    "# Day 9\n",
    "print \"############# DAY 9 Results ###########\"\n",
    "predict_result(pred_model, 'Brazil','Costa Rica','2018-06-22')\n",
    "predict_result(pred_model, 'Nigeria','Iceland','2018-06-22')\n",
    "predict_result(pred_model, 'Serbia','Switzerland','2018-06-22')\n",
    "print\n",
    "# Day 10\n",
    "print \"############# DAY 10 Results ###########\"\n",
    "predict_result(pred_model, 'Belgium','Tunisia','2018-06-23')\n",
    "predict_result(pred_model, 'South Korea','Mexico','2018-06-23')\n",
    "predict_result(pred_model, 'Germany','Sweden','2018-06-23')\n",
    "print\n",
    "# Day 11\n",
    "print \"############# DAY 11 Results ###########\"\n",
    "predict_result(pred_model, 'England','Panama','2018-06-24')\n",
    "predict_result(pred_model, 'Japan','Senegal','2018-06-24')\n",
    "predict_result(pred_model, 'Poland','Colombia','2018-06-24')\n",
    "print\n",
    "# Day 12\n",
    "print \"############# DAY 12 Results ###########\"\n",
    "predict_result(pred_model, 'Saudi Arabia','Egypt','2018-06-25')\n",
    "predict_result(pred_model, 'Uruguay','Russia','2018-06-25')\n",
    "predict_result(pred_model, 'Iran','Portugal','2018-06-25')\n",
    "predict_result(pred_model, 'Spain','Morocco','2018-06-25')\n",
    "print\n",
    "# Day 13\n",
    "print \"############# DAY 13 Results ###########\"\n",
    "predict_result(pred_model, 'Australia','Peru','2018-06-26')\n",
    "predict_result(pred_model, 'Denmark','France','2018-06-26')\n",
    "predict_result(pred_model, 'Nigeria','Argentina','2018-06-26')\n",
    "predict_result(pred_model, 'Iceland','Croatia','2018-06-26')\n",
    "print\n",
    "# Day 14\n",
    "print \"############# DAY 14 Results ###########\"\n",
    "predict_result(pred_model, 'Mexico','Sweden','2018-06-27')\n",
    "predict_result(pred_model, 'South Korea','Germany','2018-06-27')\n",
    "predict_result(pred_model, 'Switzerland','Costa Rica','2018-06-27')\n",
    "predict_result(pred_model, 'Serbia','Brazil','2018-06-27')\n",
    "print\n",
    "# Day 15\n",
    "print \"############# DAY 15 Results ###########\"\n",
    "predict_result(pred_model, 'Senegal','Colombia','2018-06-28')\n",
    "predict_result(pred_model, 'Japan','Poland','2018-06-28')\n",
    "predict_result(pred_model, 'England','Belgium','2018-06-28')\n",
    "predict_result(pred_model, 'Panama','Tunisia','2018-06-28')\n",
    "print\n"
   ]
  },
  {
   "cell_type": "markdown",
   "metadata": {},
   "source": [
    "## Knockout Stage"
   ]
  },
  {
   "cell_type": "markdown",
   "metadata": {},
   "source": [
    "According to above predicted results for group stage matches here are the match-ups and predictions for the knockout stage."
   ]
  },
  {
   "cell_type": "markdown",
   "metadata": {},
   "source": [
    "### Round of 16"
   ]
  },
  {
   "cell_type": "code",
   "execution_count": 130,
   "metadata": {
    "collapsed": false
   },
   "outputs": [
    {
     "name": "stdout",
     "output_type": "stream",
     "text": [
      "Uruguay vs Portugal result: Portugal wins\n",
      "France vs Croatia result: France wins\n",
      "Brazil vs Mexico result: Brazil wins\n",
      "Belgium vs Poland result: Belgium wins\n",
      "Spain vs Russia result: Spain wins\n",
      "Argentina vs Denmark result: Argentina wins\n",
      "Germany vs Switzerland result: Germany wins\n",
      "Colombia vs England result: England wins\n"
     ]
    }
   ],
   "source": [
    "predict_result(pred_model, 'Uruguay','Portugal','2018-06-30')\n",
    "predict_result(pred_model, 'France','Croatia','2018-06-30')\n",
    "predict_result(pred_model, 'Brazil','Mexico','2018-07-02')\n",
    "predict_result(pred_model, 'Belgium','Poland','2018-07-02')\n",
    "predict_result(pred_model, 'Spain','Russia','2018-07-01')\n",
    "predict_result(pred_model, 'Argentina','Denmark','2018-07-01')\n",
    "predict_result(pred_model, 'Germany','Switzerland','2018-07-03')\n",
    "predict_result(pred_model, 'Colombia','England','2018-07-03')"
   ]
  },
  {
   "cell_type": "markdown",
   "metadata": {},
   "source": [
    "### Quarterfinals"
   ]
  },
  {
   "cell_type": "code",
   "execution_count": 131,
   "metadata": {
    "collapsed": false
   },
   "outputs": [
    {
     "name": "stdout",
     "output_type": "stream",
     "text": [
      "Portugal vs France result: France wins\n",
      "Brazil vs Belgium result: Brazil wins\n",
      "Spain vs Argentina result: Spain wins\n",
      "Germany vs England result: Germany wins\n"
     ]
    }
   ],
   "source": [
    "predict_result(pred_model, 'Portugal','France','2018-07-06')\n",
    "predict_result(pred_model, 'Brazil','Belgium','2018-07-06')\n",
    "predict_result(pred_model, 'Spain','Argentina','2018-07-07')\n",
    "predict_result(pred_model, 'Germany','England','2018-07-07')"
   ]
  },
  {
   "cell_type": "markdown",
   "metadata": {},
   "source": [
    "### Semifinals"
   ]
  },
  {
   "cell_type": "code",
   "execution_count": 132,
   "metadata": {
    "collapsed": false
   },
   "outputs": [
    {
     "name": "stdout",
     "output_type": "stream",
     "text": [
      "France vs Brazil result: France wins\n",
      "Spain vs Germany result: Spain wins\n"
     ]
    }
   ],
   "source": [
    "predict_result(pred_model, 'France','Brazil','2018-07-10')\n",
    "predict_result(pred_model, 'Spain','Germany','2018-07-11')"
   ]
  },
  {
   "cell_type": "markdown",
   "metadata": {},
   "source": [
    "### Finals"
   ]
  },
  {
   "cell_type": "code",
   "execution_count": 133,
   "metadata": {
    "collapsed": false
   },
   "outputs": [
    {
     "name": "stdout",
     "output_type": "stream",
     "text": [
      "France vs Spain result: Spain wins\n"
     ]
    }
   ],
   "source": [
    "predict_result(pred_model, 'France','Spain','2018-07-15')"
   ]
  },
  {
   "cell_type": "code",
   "execution_count": null,
   "metadata": {
    "collapsed": true
   },
   "outputs": [],
   "source": []
  }
 ],
 "metadata": {
  "kernelspec": {
   "display_name": "Python [Root]",
   "language": "python",
   "name": "Python [Root]"
  },
  "language_info": {
   "codemirror_mode": {
    "name": "ipython",
    "version": 2
   },
   "file_extension": ".py",
   "mimetype": "text/x-python",
   "name": "python",
   "nbconvert_exporter": "python",
   "pygments_lexer": "ipython2",
   "version": "2.7.11"
  }
 },
 "nbformat": 4,
 "nbformat_minor": 0
}
